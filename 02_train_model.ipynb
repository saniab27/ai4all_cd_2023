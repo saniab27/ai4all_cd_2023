{
 "cells": [
  {
   "cell_type": "code",
   "execution_count": null,
   "id": "bf80820e-ff74-4304-8acb-9bd4e0936827",
   "metadata": {
    "editable": true,
    "slideshow": {
     "slide_type": ""
    },
    "tags": []
   },
   "outputs": [],
   "source": [
    "import pandas as pd\n",
    "import numpy as np\n",
    "import os\n",
    "\n",
    "from scipy.stats import zscore #tells how far datapoint is from mean (error measurement)\n",
    "from sklearn.model_selection import train_test_split\n",
    "\n",
    "from sklearn.pipeline import Pipeline\n",
    "import matplotlib.pyplot as plt\n",
    "from sklearn.metrics import confusion_matrix\n",
    "import seaborn as sns\n",
    "\n",
    "from sklearn.decomposition import PCA #dimensionality reduction\n",
    "from sklearn.impute import SimpleImputer #Replaces missing values with some kind of standard or qualitative data\n",
    "from sklearn.preprocessing import OneHotEncoder #Converts categorical data into numerical \n",
    "from sklearn.preprocessing import StandardScaler #standardizes features by scaling to unit variance and removing mean\n",
    "\n",
    "from sklearn.linear_model import LogisticRegression #imports model \n",
    "#Import other models we are using\n",
    "from sklearn.ensemble import RandomForestClassifier\n",
    "from sklearn.naive_bayes import GaussianNB\n",
    "from sklearn.naive_bayes import MultinomialNB\n",
    "from sklearn.neighbors import KNeighborsClassifier\n",
    "from sklearn.pipeline import make_pipeline\n",
    "from sklearn.metrics import PrecisionRecallDisplay\n",
    "import xgboost as xgb\n",
    "from sklearn.tree import DecisionTreeClassifier\n",
    "\n",
    "\n",
    "from sklearn.model_selection import cross_validate #estimates skill of model on new data\n",
    "from sklearn.metrics import roc_auc_score #compares true positives / false positives\n",
    "from sklearn import metrics\n",
    "from sklearn.inspection import permutation_importance\n",
    "\n",
    "import joblib\n",
    "import pickle"
   ]
  },
  {
   "cell_type": "code",
   "execution_count": null,
   "id": "7f1881f0-9e78-4d07-96e0-56091cf3b6c4",
   "metadata": {},
   "outputs": [],
   "source": [
    "#reads in compiled, merged df\n",
    "merged_nhanes_df = pd.read_csv('data/processed/merged_nhanes.csv')"
   ]
  },
  {
   "cell_type": "code",
   "execution_count": null,
   "id": "5073d82d-b058-4a2c-921f-53fc87b4aab2",
   "metadata": {},
   "outputs": [],
   "source": [
    "merged_nhanes_df['CFDCST1'] = zscore(merged_nhanes_df['CFDCST1'])\n",
    "merged_nhanes_df['CFDCSR'] = zscore(merged_nhanes_df['CFDCSR'])\n",
    "merged_nhanes_df['CFDDS'] = zscore(merged_nhanes_df['CFDDS'])\n",
    "merged_nhanes_df['CFDAST'] = zscore(merged_nhanes_df['CFDAST'])"
   ]
  },
  {
   "cell_type": "code",
   "execution_count": null,
   "id": "1c8662d8-706c-4940-91c3-4f7263d54dd8",
   "metadata": {},
   "outputs": [],
   "source": [
    "merged_nhanes_df['cognitive_decline_label'] = merged_nhanes_df[['CFDCST1', 'CFDCSR','CFDDS', 'CFDAST']].mean(axis = 1)\n",
    "merged_nhanes_df['cognitive_decline_label'] = merged_nhanes_df['cognitive_decline_label'] < merged_nhanes_df['cognitive_decline_label'].quantile(0.1)\n",
    "merged_nhanes_df"
   ]
  },
  {
   "cell_type": "code",
   "execution_count": null,
   "id": "55d2f53b-29e4-4b91-9f17-5781fec2bcd8",
   "metadata": {
    "scrolled": true
   },
   "outputs": [],
   "source": [
    "[x for x in merged_nhanes_df.columns]"
   ]
  },
  {
   "cell_type": "code",
   "execution_count": null,
   "id": "5eb1cd3e-ca35-496b-9fef-1d9795dd36ea",
   "metadata": {
    "editable": true,
    "slideshow": {
     "slide_type": ""
    },
    "tags": []
   },
   "outputs": [],
   "source": [
    "label = ['cognitive_decline_label']\n",
    "features = ['MCQ053', 'SLQ060', 'RIAGENDR', 'RIDAGEYR', \n",
    "            'RIDRETH3', 'INDHHIN2', 'BPQ020','BPQ080', \n",
    "            'DIQ010', 'PAD680', 'CDQ001', 'DPQ020', \n",
    "            'MCQ080', 'MCQ084', 'MCQ140', 'MCQ160c', \n",
    "            'MCQ160f', 'MCQ220', 'HUQ050', 'DUQ272', \n",
    "            'DBQ700']\n",
    "#discluded_features = [x for x in features if x not in merged_nhanes_df.columns]\n",
    "features = [x for x in features if x in merged_nhanes_df.columns]\n",
    "len(features)"
   ]
  },
  {
   "cell_type": "code",
   "execution_count": null,
   "id": "391c4e6d-c9b3-4082-b5f2-a5078cb0f5b0",
   "metadata": {},
   "outputs": [],
   "source": [
    "for feature in features:\n",
    "    merged_nhanes_df[feature] = np.floor(merged_nhanes_df[feature]).astype('Int64')"
   ]
  },
  {
   "cell_type": "code",
   "execution_count": null,
   "id": "83e64ada-6b82-4c9d-8ef6-2252e4ad8b8f",
   "metadata": {},
   "outputs": [],
   "source": [
    "y = merged_nhanes_df[label].values.ravel() #compresses 2D array to 1D\n",
    "X = merged_nhanes_df[features]\n",
    "\n",
    "X_train, X_test, y_train, y_test = train_test_split(X, y, test_size=0.2, random_state=42)"
   ]
  },
  {
   "cell_type": "code",
   "execution_count": null,
   "id": "07928a17-bce2-4692-a28b-c31b84537f6f",
   "metadata": {},
   "outputs": [],
   "source": [
    "pickle.dump(X_train, open('data/processed/X_train.sav', 'wb'))\n",
    "pickle.dump(X_test, open('data/processed/X_test.sav', 'wb'))\n",
    "pickle.dump(y_train, open('data/processed/y_train.sav', 'wb'))\n",
    "pickle.dump(y_test, open('data/processed/y_test.sav', 'wb'))"
   ]
  },
  {
   "cell_type": "code",
   "execution_count": null,
   "id": "0f27c238-e5ab-4caa-be4f-e9b99efab998",
   "metadata": {
    "editable": true,
    "slideshow": {
     "slide_type": ""
    },
    "tags": []
   },
   "outputs": [],
   "source": [
    "if 'models' not in os.listdir():\n",
    "    os.mkdir('models')"
   ]
  },
  {
   "cell_type": "code",
   "execution_count": null,
   "id": "93e5a35a-959b-4057-bf6d-dd5cdbbad649",
   "metadata": {
    "editable": true,
    "slideshow": {
     "slide_type": ""
    },
    "tags": []
   },
   "outputs": [],
   "source": [
    "lr_pipe = Pipeline([\n",
    "    ('imputer', SimpleImputer(strategy='most_frequent')),\n",
    "    ('enc', OneHotEncoder(handle_unknown='ignore')),\n",
    "    ('clf', LogisticRegression(max_iter=1000))\n",
    "])\n",
    "lr_pipe.fit(X_train, y_train)\n",
    "lr_training_score = roc_auc_score(y_train, lr_pipe.predict_proba(X_train)[:, 1])\n",
    "lr_scores = cross_validate(lr_pipe, X_train, y_train, cv=5, scoring='roc_auc')\n",
    "\n",
    "joblib.dump(lr_pipe, 'models/logistic_regression_pipeline.sav')\n",
    "\n",
    "print(lr_training_score)\n",
    "print(lr_scores['test_score'].mean())\n",
    "print(lr_scores['test_score'].std())"
   ]
  },
  {
   "cell_type": "code",
   "execution_count": null,
   "id": "2cc4df26-420a-4515-bb08-b679cb73b3b8",
   "metadata": {},
   "outputs": [],
   "source": [
    "rf_pipe = pipe = Pipeline([('imputer', SimpleImputer(strategy='most_frequent')), \n",
    "                 ('clf', RandomForestClassifier(warm_start=True))])\n",
    "rf_pipe.fit(X_train, y_train)\n",
    "rf_training_score = roc_auc_score(y_train, rf_pipe.predict_proba(X_train)[:, 1])\n",
    "rf_scores = cross_validate(rf_pipe, X_train, y_train, cv=5, scoring='roc_auc')\n",
    "rf_predicts = rf_pipe.predict(X_test)\n",
    "print(metrics.classification_report(y_test, rf_predicts))\n",
    "\n",
    "joblib.dump(lr_pipe, 'models/random_forest_pipeline.sav')\n",
    "\n",
    "print(rf_training_score)\n",
    "print(rf_scores['test_score'].mean())\n",
    "print(rf_scores['test_score'].std())\n",
    "\n",
    "# the confusion matrix for the rf model\n",
    "rf_cm = confusion_matrix(y_test,rf_predicts)\n",
    "rf_cm_df = pd.DataFrame(\n",
    "    rf_cm, \n",
    "    index = ['True','False'],\n",
    "    columns = [col for col in ['CD (pred)', 'No CD (pred)']])\n",
    "plt.figure(figsize = (10,7))\n",
    "sns.heatmap(rf_cm_df, annot=True)\n",
    "plt.show()"
   ]
  },
  {
   "cell_type": "code",
   "execution_count": null,
   "id": "2b8200a3-25d1-44ce-b879-d3e877173ef9",
   "metadata": {
    "editable": true,
    "slideshow": {
     "slide_type": ""
    },
    "tags": []
   },
   "outputs": [],
   "source": [
    "knn_pipe = Pipeline([\n",
    "    ('imputer', SimpleImputer(strategy='most_frequent')),\n",
    "    ('enc', OneHotEncoder(handle_unknown='ignore')),\n",
    "    ('clf', KNeighborsClassifier(n_neighbors=2))\n",
    "])\n",
    "knn_pipe.fit(X_train, y_train)\n",
    "knn_training_score = roc_auc_score(y_train, knn_pipe.predict_proba(X_train)[:, 1])\n",
    "knn_scores = cross_validate(knn_pipe, X_train, y_train, cv=5, scoring='roc_auc')\n",
    "knn_predicts = knn_pipe.predict(X_test)\n",
    "print(metrics.classification_report(y_test, knn_predicts))\n",
    "\n",
    "joblib.dump(lr_pipe, 'models/k_nearest_neighbors_pipeline.sav')\n",
    "\n",
    "print(knn_training_score)\n",
    "print(knn_scores['test_score'].mean())\n",
    "print(knn_scores['test_score'].std())\n",
    "\n",
    "\n",
    "# the confusion matrix for the rf model\n",
    "knn_cm = confusion_matrix(y_test,knn_predicts)\n",
    "knn_cm_df = pd.DataFrame(\n",
    "    knn_cm, \n",
    "    index = ['True','False'],\n",
    "    columns = [col for col in ['CD (pred)', 'No CD (pred)']])\n",
    "plt.figure(figsize = (10,7))\n",
    "sns.heatmap(knn_cm_df, annot=True)\n",
    "plt.show()"
   ]
  },
  {
   "cell_type": "code",
   "execution_count": null,
   "id": "6fb9a0ab-8c04-4537-9816-d0d0e80e0ae1",
   "metadata": {
    "editable": true,
    "slideshow": {
     "slide_type": ""
    },
    "tags": []
   },
   "outputs": [],
   "source": [
    "xgb_pipe = Pipeline([\n",
    "    ('imputer', SimpleImputer(strategy='most_frequent')),\n",
    "    ('enc', OneHotEncoder(handle_unknown='ignore')),\n",
    "    ('clf', xgb.XGBClassifier())\n",
    "])\n",
    "\n",
    "xgb_pipe.fit(X_train, y_train)\n",
    "xgb_training_score = roc_auc_score(y_train, xgb_pipe.predict_proba(X_train)[:, 1])\n",
    "xgb_scores = cross_validate(xgb_pipe, X_train, y_train, cv=5, scoring='roc_auc')\n",
    "xgb_predicts = xgb_pipe.predict(X_test)\n",
    "print(metrics.classification_report(y_test, xgb_predicts))\n",
    "\n",
    "joblib.dump(lr_pipe, 'models/gradient_boost_pipeline.sav')\n",
    "\n",
    "print(xgb_training_score)\n",
    "print(xgb_scores['test_score'].mean())\n",
    "print(xgb_scores['test_score'].std())\n",
    "\n",
    "# the confusion matrix for the rf model\n",
    "xgb_cm = confusion_matrix(y_test,xgb_predicts)\n",
    "xgb_cm_df = pd.DataFrame(\n",
    "    xgb_cm, \n",
    "    index = ['True','False'],\n",
    "    columns = [col for col in ['CD (pred)', 'No CD (pred)']])\n",
    "plt.figure(figsize = (10,7))\n",
    "sns.heatmap(xgb_cm_df, annot=True)\n",
    "plt.show()"
   ]
  },
  {
   "cell_type": "code",
   "execution_count": null,
   "id": "6caa88ee-dea2-4899-ab2b-ea152d5962a3",
   "metadata": {
    "editable": true,
    "slideshow": {
     "slide_type": ""
    },
    "tags": []
   },
   "outputs": [],
   "source": [
    "nb_pipe = Pipeline([\n",
    "    ('imputer', SimpleImputer(strategy='most_frequent')),\n",
    "    ('enc', OneHotEncoder(handle_unknown='ignore')),\n",
    "    ('clf', MultinomialNB())\n",
    "])\n",
    "nb_pipe.fit(X_train, y_train)\n",
    "nb_training_score = roc_auc_score(y_train, nb_pipe.predict_proba(X_train)[:, 1])\n",
    "nb_scores = cross_validate(nb_pipe, X_train, y_train, cv=5, scoring='roc_auc')\n",
    "\n",
    "joblib.dump(lr_pipe, 'models/naive_bayes_pipeline.sav')\n",
    "\n",
    "print(nb_training_score)\n",
    "print(nb_scores['test_score'].mean())\n",
    "print(nb_scores['test_score'].std())"
   ]
  },
  {
   "cell_type": "code",
   "execution_count": null,
   "id": "4fc49e14-ff67-474f-b9ce-70badebbbd6f",
   "metadata": {},
   "outputs": [],
   "source": [
    "dt_pipe = Pipeline([\n",
    "    ('imputer', SimpleImputer(strategy='most_frequent')),\n",
    "    ('enc', OneHotEncoder(handle_unknown='ignore')),\n",
    "    ('clf', DecisionTreeClassifier())\n",
    "])\n",
    "dt_pipe.fit(X_train, y_train)\n",
    "dt_training_score = roc_auc_score(y_train, dt_pipe.predict_proba(X_train)[:, 1])\n",
    "dt_scores = cross_validate(nb_pipe, X_train, y_train, cv=5, scoring='roc_auc')\n",
    "\n",
    "joblib.dump(lr_pipe, 'models/decision_tree_pipeline.sav')\n",
    "\n",
    "print(dt_training_score)\n",
    "print(dt_scores['test_score'].mean())\n",
    "print(dt_scores['test_score'].std())\n",
    "\n",
    "# the confusion matrix for the rf model\n",
    "dt_cm = confusion_matrix(y_test,xgb_predicts)\n",
    "dt_cm_df = pd.DataFrame(\n",
    "    dt_cm, \n",
    "    index = ['True','False'],\n",
    "    columns = [col for col in ['CD (pred)', 'No CD (pred)']])\n",
    "plt.figure(figsize = (10,7))\n",
    "sns.heatmap(dt_cm_df, annot=True)\n",
    "plt.show()\n",
    "dt_scores"
   ]
  }
 ],
 "metadata": {
  "kernelspec": {
   "display_name": "Python 3 (ipykernel)",
   "language": "python",
   "name": "python3"
  },
  "language_info": {
   "codemirror_mode": {
    "name": "ipython",
    "version": 3
   },
   "file_extension": ".py",
   "mimetype": "text/x-python",
   "name": "python",
   "nbconvert_exporter": "python",
   "pygments_lexer": "ipython3",
   "version": "3.9.10"
  }
 },
 "nbformat": 4,
 "nbformat_minor": 5
}
