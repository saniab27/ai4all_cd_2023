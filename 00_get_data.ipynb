{
 "cells": [
  {
   "cell_type": "code",
   "execution_count": null,
   "id": "691d81b2-ca2e-4168-9e1a-3fb8116e3f4a",
   "metadata": {
    "tags": []
   },
   "outputs": [],
   "source": [
    "import pandas as pd\n",
    "import os"
   ]
  },
  {
   "cell_type": "code",
   "execution_count": null,
   "id": "c835377b-969c-4bbd-92d4-b0a94359a769",
   "metadata": {},
   "outputs": [],
   "source": [
    "if 'data' not in os.listdir():\n",
    "    os.mkdir('data')\n",
    "if 'raw' not in os.listdir('data/'):\n",
    "    os.mkdir('data/raw')"
   ]
  },
  {
   "cell_type": "code",
   "execution_count": null,
   "id": "a240ad5e-a7f5-4447-8679-d6ca57e80526",
   "metadata": {},
   "outputs": [],
   "source": [
    "year_data_mapping = {\n",
    "    '2011-2012': 'G',\n",
    "    '2013-2014': 'H',\n",
    "}"
   ]
  },
  {
   "cell_type": "code",
   "execution_count": null,
   "id": "c02f94c7-02dd-4f23-9cde-f7a2fc1529ed",
   "metadata": {},
   "outputs": [],
   "source": [
    "data_sources = {\n",
    "    year: {\n",
    "        'demographic': pd.read_sas('https://wwwn.cdc.gov/Nchs/Nhanes/{}/DEMO_{}.XPT'.format(year, letter)),\n",
    "        'bp_cholesterol': pd.read_sas('https://wwwn.cdc.gov/Nchs/Nhanes/{}/BPQ_{}.XPT'.format(year, letter)),\n",
    "        'cardiovascular': pd.read_sas('https://wwwn.cdc.gov/Nchs/Nhanes/{}/CDQ_{}.XPT'.format(year, letter)),\n",
    "        'cognitive': pd.read_sas('https://wwwn.cdc.gov/Nchs/Nhanes/{}/CFQ_{}.XPT'.format(year, letter)),\n",
    "        'diabetes': pd.read_sas('https://wwwn.cdc.gov/Nchs/Nhanes/{}/DIQ_{}.XPT'.format(year, letter)),\n",
    "        'diet_nutrition': pd.read_sas('https://wwwn.cdc.gov/Nchs/Nhanes/{}/DBQ_{}.XPT'.format(year, letter)),\n",
    "        'housing': pd.read_sas('https://wwwn.cdc.gov/Nchs/Nhanes/{}/HOQ_{}.XPT'.format(year, letter)),\n",
    "        'income': pd.read_sas('https://wwwn.cdc.gov/Nchs/Nhanes/{}/INQ_{}.XPT'.format(year, letter)),\n",
    "        'mental_health': pd.read_sas('https://wwwn.cdc.gov/Nchs/Nhanes/{}/DPQ_{}.XPT'.format(year, letter)),\n",
    "        'physical_activity': pd.read_sas('https://wwwn.cdc.gov/Nchs/Nhanes/{}/PAQ_{}.XPT'.format(year, letter)),\n",
    "        'sleep_disorder': pd.read_sas('https://wwwn.cdc.gov/Nchs/Nhanes/{}/SLQ_{}.XPT'.format(year, letter)),\n",
    "        'cigarette_use':pd.read_sas('https://wwwn.cdc.gov/Nchs/Nhanes/{}/SMQ_{}.XPT'.format(year,letter)),\n",
    "        #Added data sources\n",
    "        'alcohol_use': pd.read_sas('https://wwwn.cdc.gov/Nchs/Nhanes/{}/ALQ_{}.XPT'.format(year,letter)) ,\n",
    "        'medical_conditions': pd.read_sas('https://wwwn.cdc.gov/Nchs/Nhanes/{}/MCQ_{}.XPT'.format(year,letter)), \n",
    "        'access_to_care': pd.read_sas('https://wwwn.cdc.gov/Nchs/Nhanes/{}/HUQ_{}.XPT'.format(year,letter)), \n",
    "        'food_security': pd.read_sas('https://wwwn.cdc.gov/Nchs/Nhanes/{}/FSQ_{}.XPT'.format(year,letter)), \n",
    "        'immunization': pd.read_sas('https://wwwn.cdc.gov/Nchs/Nhanes/{}/IMQ_{}.XPT'.format(year,letter)),\n",
    "        #At some point, we might need to remove one of the weight files (putting too much emphasis on one's weight can decrease accuracy of the model)\n",
    "        'weight_history': pd.read_sas('https://wwwn.cdc.gov/Nchs/Nhanes/{}/WHQ_{}.XPT'.format(year,letter)),\n",
    "        'weight_history_youth': pd.read_sas('https://wwwn.cdc.gov/Nchs/Nhanes/{}/WHQMEC_{}.XPT'.format(year,letter)),\n",
    "        'drug_use': pd.read_sas('https://wwwn.cdc.gov/Nchs/Nhanes/{}/DUQ_{}.XPT'.format(year,letter)),\n",
    "        #Occupation affects income, and we already included income. This data includes interesting info like smoke exposure, which could relate to cognitive decline\n",
    "        'occupation': pd.read_sas('https://wwwn.cdc.gov/Nchs/Nhanes/{}/OCQ_{}.XPT'.format(year,letter)),\n",
    "        #Need to refer to first paper to check if prescription medication is a good feature to include\n",
    "        'prescription_medication': pd.read_sas('https://wwwn.cdc.gov/Nchs/Nhanes/{}/RXQ_RX_{}.XPT'.format(year,letter))\n",
    "\n",
    "        \n",
    "    }\n",
    "    for year, letter in year_data_mapping.items()\n",
    "}"
   ]
  },
  {
   "cell_type": "code",
   "execution_count": null,
   "id": "fb17e40e-1bec-4d4e-b61b-356890f9ce7a",
   "metadata": {},
   "outputs": [],
   "source": [
    "# Keep track of columns that are consistent across years\n",
    "column_tracker = {\n",
    "    file: []\n",
    "    for file in data_sources['2011-2012']\n",
    "}"
   ]
  },
  {
   "cell_type": "code",
   "execution_count": null,
   "id": "866ed21b-3195-4387-92c2-f646002d6924",
   "metadata": {},
   "outputs": [],
   "source": [
    "for year, data in data_sources.items():\n",
    "    for file in column_tracker:\n",
    "\n",
    "        if len(column_tracker[file]) == 0:\n",
    "            column_tracker[file] = data[file].columns\n",
    "        else:\n",
    "            column_tracker[file] = [\n",
    "                col\n",
    "                for col in data[file].columns\n",
    "                if col in column_tracker[file]\n",
    "            ]"
   ]
  },
  {
   "cell_type": "code",
   "execution_count": null,
   "id": "dd8e32ae-0951-46f9-b949-b015ed2182bd",
   "metadata": {},
   "outputs": [],
   "source": [
    "# Save dataframes to data/raw directory\n",
    "for year, data in data_sources.items():\n",
    "    for file, df in data.items():\n",
    "        df[column_tracker[file]].to_csv(\n",
    "            'data/raw/{}_{}.csv'.format(year, file),\n",
    "            index = False\n",
    "        )"
   ]
  }
 ],
 "metadata": {
  "kernelspec": {
   "display_name": "Python 3 (ipykernel)",
   "language": "python",
   "name": "python3"
  },
  "language_info": {
   "codemirror_mode": {
    "name": "ipython",
    "version": 3
   },
   "file_extension": ".py",
   "mimetype": "text/x-python",
   "name": "python",
   "nbconvert_exporter": "python",
   "pygments_lexer": "ipython3",
   "version": "3.9.10"
  }
 },
 "nbformat": 4,
 "nbformat_minor": 5
}
