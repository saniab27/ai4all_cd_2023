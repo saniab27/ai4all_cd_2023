{
 "cells": [
  {
   "cell_type": "code",
   "execution_count": null,
   "id": "4cb31276-71ff-4ca4-ac2d-50d05b2b1a70",
   "metadata": {
    "editable": true,
    "slideshow": {
     "slide_type": ""
    },
    "tags": []
   },
   "outputs": [],
   "source": [
    "import os\n",
    "import pandas as pd\n",
    "import numpy as np\n",
    "\n",
    "import joblib\n",
    "import pickle\n",
    "from sklearn.inspection import permutation_importance, PartialDependenceDisplay"
   ]
  },
  {
   "cell_type": "code",
   "execution_count": null,
   "id": "cefaf701-2469-4023-b838-f099d6d4fefd",
   "metadata": {},
   "outputs": [],
   "source": [
    "X_train = pickle.load(open('data/processed/X_train.sav', 'rb'))\n",
    "X_test = pickle.load(open('data/processed/X_test.sav', 'rb'))\n",
    "y_train = pickle.load(open('data/processed/y_train.sav', 'rb'))\n",
    "y_test = pickle.load(open('data/processed/y_test.sav', 'rb'))\n",
    "lr_pipe = joblib.load('models/logistic_regression_pipeline.sav')\n",
    "rf_pipe = joblib.load('models/random_forest_pipeline.sav')\n",
    "knn_pipe = joblib.load('models/k_nearest_neighbors_pipeline.sav')\n",
    "xgb_pipe = joblib.load('models/gradient_boost_pipeline.sav')"
   ]
  },
  {
   "cell_type": "code",
   "execution_count": null,
   "id": "1014e43c-8c86-46ec-ad75-99025d2b4cdc",
   "metadata": {
    "editable": true,
    "slideshow": {
     "slide_type": ""
    },
    "tags": []
   },
   "outputs": [],
   "source": [
    "r = permutation_importance(\n",
    "    #knn_pipe,\n",
    "    #rf_pipe,\n",
    "    xgb_pipe,\n",
    "    X_train, \n",
    "    y_train,\n",
    "    n_repeats=5,\n",
    "    n_jobs=-1,\n",
    "    random_state=42 #Ensures results can be reproduced by using random generator\n",
    ")\n",
    "\n",
    "feature_importances = pd.DataFrame.from_dict(\n",
    "    {\n",
    "        'importance_means': r['importances_mean'],\n",
    "        'importances_std': r['importances_std']\n",
    "    }, orient='columns'\n",
    ")\n",
    "feature_importances.index = X_train.columns\n",
    "\n",
    "feature_importances.sort_values('importance_means', ascending = False)"
   ]
  },
  {
   "cell_type": "code",
   "execution_count": null,
   "id": "13ced074-c8ce-408a-bb3b-135209e65e97",
   "metadata": {
    "editable": true,
    "slideshow": {
     "slide_type": ""
    },
    "tags": []
   },
   "outputs": [],
   "source": [
    "PartialDependenceDisplay.from_estimator(xgb_pipe, X_train.dropna(), features = ['RIDAGEYR', 'INDHHIN2'], target=1)"
   ]
  },
  {
   "cell_type": "code",
   "execution_count": null,
   "id": "6f846bcb-aead-4ae8-a023-af4b0f5add50",
   "metadata": {},
   "outputs": [],
   "source": []
  }
 ],
 "metadata": {
  "kernelspec": {
   "display_name": "Python 3 (ipykernel)",
   "language": "python",
   "name": "python3"
  },
  "language_info": {
   "codemirror_mode": {
    "name": "ipython",
    "version": 3
   },
   "file_extension": ".py",
   "mimetype": "text/x-python",
   "name": "python",
   "nbconvert_exporter": "python",
   "pygments_lexer": "ipython3",
   "version": "3.9.10"
  }
 },
 "nbformat": 4,
 "nbformat_minor": 5
}
